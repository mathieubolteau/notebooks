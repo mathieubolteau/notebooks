{
 "cells": [
  {
   "cell_type": "markdown",
   "metadata": {},
   "source": [
    "# Listing 2.1\n",
    "\n",
    "To run the ASP program, click on the first cell and then on `Run` (or press `Ctrl+Enter`). The result will be printed below the cell.\n"
   ]
  },
  {
   "cell_type": "code",
   "execution_count": 16,
   "metadata": {},
   "outputs": [
    {
     "name": "stdout",
     "output_type": "stream",
     "text": [
      "clingo version 5.4.1\n",
      "Reading from stdin\n",
      "Solving...\n",
      "Answer: 1\n",
      "bird(casper) bird(ricky) neg_fly(casper) fly(ricky) eagle(ricky) penguin(casper)\n",
      "SATISFIABLE\n",
      "\n",
      "Models       : 1\n",
      "Calls        : 1\n",
      "Time         : 0.000s (Solving: 0.00s 1st Model: 0.00s Unsat: 0.00s)\n",
      "CPU Time     : 0.000s\n"
     ]
    }
   ],
   "source": [
    "%%clingo -n 0\n",
    "% This is a comment in ASP\n",
    "% Problem encoding\n",
    "fly(X)     :- bird(X), not neg_fly(X).\n",
    "bird(X)    :- eagle(X).\n",
    "bird(X)    :- penguin(X).\n",
    "neg_fly(X) :- penguin(X).\n",
    "% Problem instance\n",
    "eagle(ricky).\n",
    "penguin(casper)."
   ]
  },
  {
   "cell_type": "code",
   "execution_count": 17,
   "metadata": {},
   "outputs": [
    {
     "name": "stdout",
     "output_type": "stream",
     "text": [
      "clingo version 5.4.1\n",
      "Reading from stdin\n",
      "Solving...\n",
      "Answer: 1\n",
      "bird(casper) bird(ricky) fly(ricky)\n",
      "SATISFIABLE\n",
      "\n",
      "Models       : 1\n",
      "Calls        : 1\n",
      "Time         : 0.000s (Solving: 0.00s 1st Model: 0.00s Unsat: 0.00s)\n",
      "CPU Time     : 0.000s\n"
     ]
    }
   ],
   "source": [
    "%%clingo -n 0\n",
    "\n",
    "% Problem encoding\n",
    "fly(X)     :- bird(X), not neg_fly(X).\n",
    "bird(X)    :- eagle(X).\n",
    "bird(X)    :- penguin(X).\n",
    "neg_fly(X) :- penguin(X).\n",
    "% Problem instance\n",
    "eagle(ricky).\n",
    "penguin(casper).\n",
    "% Display\n",
    "#show bird/1.\n",
    "#show fly/1."
   ]
  },
  {
   "cell_type": "code",
   "execution_count": 18,
   "metadata": {},
   "outputs": [
    {
     "name": "stdout",
     "output_type": "stream",
     "text": [
      "bird(darla) bird(casper) bird(ricky) fly(darla) fly(ricky)\n",
      "SATISFIABLE\n"
     ]
    }
   ],
   "source": [
    "%%clingo -V0 0\n",
    "\n",
    "% Problem encoding\n",
    "fly(X)     :- bird(X), not neg_fly(X).\n",
    "bird(X)    :- eagle(X).\n",
    "bird(X)    :- penguin(X).\n",
    "neg_fly(X) :- penguin(X).\n",
    "% Problem instance\n",
    "eagle(ricky).\n",
    "penguin(casper).\n",
    "% Display\n",
    "#show bird/1.\n",
    "#show fly/1.\n",
    "% Extension\n",
    "hen(darla).\n",
    "bird(X)    :- hen(X).\n",
    "% neg_fly(X) :- hen(X). % A han cannot fly [or not; with a comment]"
   ]
  },
  {
   "cell_type": "code",
   "execution_count": 19,
   "metadata": {},
   "outputs": [
    {
     "name": "stdout",
     "output_type": "stream",
     "text": [
      "bird(darla) bird(casper) bird(ricky) fly(ricky)\n",
      "SATISFIABLE\n"
     ]
    }
   ],
   "source": [
    "%%clingo -V0 0\n",
    "\n",
    "% Problem encoding\n",
    "fly(X)     :- bird(X), not neg_fly(X).\n",
    "bird(X)    :- eagle(X).\n",
    "bird(X)    :- penguin(X).\n",
    "neg_fly(X) :- penguin(X).\n",
    "% Problem instance\n",
    "eagle(ricky).\n",
    "penguin(casper).\n",
    "% Display\n",
    "#show bird/1.\n",
    "#show fly/1.\n",
    "% Extension\n",
    "hen(darla).\n",
    "bird(X)    :- hen(X).\n",
    "neg_fly(X) :- hen(X). % A han cannot fly [or not; with a comment]"
   ]
  }
 ],
 "metadata": {
  "kernelspec": {
   "display_name": "Python 3",
   "language": "python",
   "name": "python3"
  },
  "language_info": {
   "codemirror_mode": {
    "name": "ipython",
    "version": 3
   },
   "file_extension": ".py",
   "mimetype": "text/x-python",
   "name": "python",
   "nbconvert_exporter": "python",
   "pygments_lexer": "ipython3",
   "version": "3.10.12"
  }
 },
 "nbformat": 4,
 "nbformat_minor": 2
}
