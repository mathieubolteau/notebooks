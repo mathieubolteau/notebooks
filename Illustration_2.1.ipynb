{
 "cells": [
  {
   "cell_type": "markdown",
   "metadata": {},
   "source": [
    "# Illustration of the Program 2.1\n",
    "\n",
    "In this notebook, we provide an illustrative approach to better understand the Program 2.1 presented in the manuscript.\n",
    "\n",
    "**Tips**: to run an ASP program, click on the cell and then on `Run` (or press `Ctrl+Enter`). The result will be printed below the cell.\n"
   ]
  },
  {
   "cell_type": "code",
   "execution_count": 1,
   "metadata": {},
   "outputs": [
    {
     "name": "stdout",
     "output_type": "stream",
     "text": [
      "clingo version 5.4.1\n",
      "Reading from stdin\n",
      "Solving...\n",
      "Answer: 1\n",
      "bird(casper) bird(ricky) neg_fly(casper) fly(ricky) eagle(ricky) penguin(casper)\n",
      "SATISFIABLE\n",
      "\n",
      "Models       : 1\n",
      "Calls        : 1\n",
      "Time         : 0.004s (Solving: 0.00s 1st Model: 0.00s Unsat: 0.00s)\n",
      "CPU Time     : 0.001s\n"
     ]
    }
   ],
   "source": [
    "%%clingo -n 0\n",
    "% This is a comment in ASP\n",
    "% Problem encoding\n",
    "fly(X)     :- bird(X), not neg_fly(X).  % A bird can fly by default, unless negated via `not neg_fly(X)`\n",
    "bird(X)    :- eagle(X).                 % A eagle is a bird\n",
    "bird(X)    :- penguin(X).               % A penguin is a bird\n",
    "neg_fly(X) :- penguin(X).               % A penguin cannot fly\n",
    "% Problem instance\n",
    "eagle(ricky).\n",
    "penguin(casper)."
   ]
  },
  {
   "cell_type": "markdown",
   "metadata": {},
   "source": [
    "Let us explain the program and its execution.\n",
    "\n",
    "**ASP Program**\n",
    "\n",
    "We define the problem encoding in lines 3 to 6. \n",
    "Line 3 defines that a bird can fly by default, unless negated via the instruction `not neg_fly(X)`. \n",
    "Here, the default negation takes on its full meaning. \n",
    "Unless explicitly stated that a bird cannot fly using the predicate, it is assumed that the bird can fly. \n",
    "Lines 4 and 5 establish that an eagle and a penguin, respectively, are both birds. \n",
    "Line 6 introduces the neg_fly/1 predicate, indicating that a penguin cannot fly.\n",
    "\n",
    "Next, the problem instance is specified in lines 8 and 9, which represent our knowledge base. \n",
    "These lines state that `ricky` is an eagle and `casper` is a penguin. \n",
    "Consequently, `ricky` is inferred to be a bird capable of flight, while `casper` is a bird without the ability to fly.\n",
    "\n",
    "**Program execution**\n",
    "\n",
    "In the cell, line 1, we call the clingo solver via `clingo -n 0`. \n",
    "The parameter `-n 0` means that we search for all possible solutions to the problem.\n",
    "\n",
    "The solver first outputs: \n",
    "\n",
    "```\n",
    "clingo version 5.4.1\n",
    "Reading from stdin\n",
    "Solving...\n",
    "```\n",
    "\n",
    "This indicates that version 5.4.1 of clingo was used.\n",
    "The program is taken from the `stdin` input. \n",
    "`Solving...` indicates that the solving process is ongoing.\n",
    "\n",
    "The next output lines are: \n",
    "```\n",
    "Answer: 1\n",
    "bird(casper) bird(ricky) neg_fly(casper) fly(ricky) eagle(ricky) penguin(casper)\n",
    "SATISFIABLE\n",
    "```\n",
    "These lines indicate that a solution (or answer) that satisfies the problem was found.\n",
    "This solution is composed of the following predicates: \n",
    "1. `bird(casper)` meaning that `casper` is a bird ;\n",
    "2. `bird(ricky)` meaning that `ricky` is a bird ;\n",
    "3. `neg_fly(casper)` meaning that `casper` cannot fly ;\n",
    "4. `fly(ricky)` meaning that `ricky` can fly ;\n",
    "5. `eagle(ricky)` meaning that `ricky` is an eagle ;\n",
    "6. `penguin(casper)` meaning that `casper` is a penguin.\n",
    "\n",
    "Thus, the program allows us to determine that `ricky` can fly.\n",
    "Notice that the order of the predicates in a solution can vary, but that is not important.\n",
    "\n",
    "Here, the last two predicates are part of our knowledge base, so we already know this information.\n",
    "This makes them less informative.\n",
    "To address this issue, we can filter the output predicates to display only the relevant information for our problem.\n",
    "This is achieved in the following program via the `#show` instructions (see next cell).\n",
    "\n",
    "Finally, the last output lines provide a summary of the solving process:\n",
    "```\n",
    "Models       : 1\n",
    "Calls        : 1\n",
    "Time         : 0.000s (Solving: 0.00s 1st Model: 0.00s Unsat: 0.00s)\n",
    "CPU Time     : 0.000s\n",
    "```\n",
    "\n",
    "This indicates that 1 solution (model) is found. The solving was called once. \n",
    "We also have information about the execution time of the solving process and the CPU time required for the program execution."
   ]
  },
  {
   "cell_type": "code",
   "execution_count": 2,
   "metadata": {},
   "outputs": [
    {
     "name": "stdout",
     "output_type": "stream",
     "text": [
      "clingo version 5.4.1\n",
      "Reading from stdin\n",
      "Solving...\n",
      "Answer: 1\n",
      "bird(casper) bird(ricky) fly(ricky)\n",
      "SATISFIABLE\n",
      "\n",
      "Models       : 1\n",
      "Calls        : 1\n",
      "Time         : 0.000s (Solving: 0.00s 1st Model: 0.00s Unsat: 0.00s)\n",
      "CPU Time     : 0.000s\n"
     ]
    }
   ],
   "source": [
    "%%clingo -n 0\n",
    "\n",
    "% Problem encoding\n",
    "fly(X)     :- bird(X), not neg_fly(X).\n",
    "bird(X)    :- eagle(X).\n",
    "bird(X)    :- penguin(X).\n",
    "neg_fly(X) :- penguin(X).\n",
    "% Problem instance\n",
    "eagle(ricky).\n",
    "penguin(casper).\n",
    "% Display\n",
    "#show bird/1.\n",
    "#show fly/1."
   ]
  },
  {
   "cell_type": "markdown",
   "metadata": {},
   "source": [
    "Here, we aim to display only informative predicates, specifically the birds (`#show bird/1`) and whether they can fly (`#show fly/1`). \n",
    "By doing this, only the predicates of interest are displayed by the solver, facilitating the comprehension of the results."
   ]
  }
 ],
 "metadata": {
  "kernelspec": {
   "display_name": "Python 3",
   "language": "python",
   "name": "python3"
  },
  "language_info": {
   "codemirror_mode": {
    "name": "ipython",
    "version": 3
   },
   "file_extension": ".py",
   "mimetype": "text/x-python",
   "name": "python",
   "nbconvert_exporter": "python",
   "pygments_lexer": "ipython3",
   "version": "3.10.12"
  }
 },
 "nbformat": 4,
 "nbformat_minor": 2
}
