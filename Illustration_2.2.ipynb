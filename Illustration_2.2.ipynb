{
 "cells": [
  {
   "cell_type": "markdown",
   "metadata": {},
   "source": [
    "# Illustration of the Program 2.2\n",
    "\n",
    "In this notebook, we provide an illustrative approach to better understand the Program 2.2 presented in the manuscript.\n",
    "\n",
    "**Tips**: to run an ASP program, click on the cell and then on `Run` (or press `Ctrl+Enter`). The result will be printed below the cell.\n"
   ]
  },
  {
   "cell_type": "code",
   "execution_count": 1,
   "metadata": {},
   "outputs": [
    {
     "name": "stdout",
     "output_type": "stream",
     "text": [
      "clingo version 5.4.1\n",
      "Reading from stdin\n",
      "Solving...\n",
      "Answer: 1\n",
      "\n",
      "Answer: 2\n",
      "sel_pert(c3,g1,1,late_TE)\n",
      "Answer: 3\n",
      "sel_pert(c2,g2,1,medium_TE)\n",
      "Answer: 4\n",
      "sel_pert(c3,g1,1,late_TE) sel_pert(c2,g2,1,medium_TE)\n",
      "Answer: 5\n",
      "sel_pert(c3,g2,1,late_TE)\n",
      "Answer: 6\n",
      "sel_pert(c2,g2,1,medium_TE) sel_pert(c3,g2,1,late_TE)\n",
      "Answer: 7\n",
      "sel_pert(c3,g1,1,late_TE) sel_pert(c3,g2,1,late_TE)\n",
      "Answer: 8\n",
      "sel_pert(c3,g1,1,late_TE) sel_pert(c2,g2,1,medium_TE) sel_pert(c3,g2,1,late_TE)\n",
      "Answer: 9\n",
      "sel_pert(c2,g1,0,medium_TE)\n",
      "Answer: 10\n",
      "sel_pert(c2,g1,0,medium_TE) sel_pert(c3,g1,1,late_TE)\n",
      "Answer: 11\n",
      "sel_pert(c2,g1,0,medium_TE) sel_pert(c3,g2,1,late_TE)\n",
      "Answer: 12\n",
      "sel_pert(c2,g1,0,medium_TE) sel_pert(c3,g1,1,late_TE) sel_pert(c3,g2,1,late_TE)\n",
      "Answer: 13\n",
      "sel_pert(c2,g1,0,medium_TE) sel_pert(c2,g2,1,medium_TE)\n",
      "Answer: 14\n",
      "sel_pert(c2,g1,0,medium_TE) sel_pert(c2,g2,1,medium_TE) sel_pert(c3,g2,1,late_TE)\n",
      "Answer: 15\n",
      "sel_pert(c2,g1,0,medium_TE) sel_pert(c3,g1,1,late_TE) sel_pert(c2,g2,1,medium_TE)\n",
      "Answer: 16\n",
      "sel_pert(c2,g1,0,medium_TE) sel_pert(c3,g1,1,late_TE) sel_pert(c2,g2,1,medium_TE) sel_pert(c3,g2,1,late_TE)\n",
      "SATISFIABLE\n",
      "\n",
      "Models       : 16\n",
      "Calls        : 1\n",
      "Time         : 0.001s (Solving: 0.00s 1st Model: 0.00s Unsat: 0.00s)\n",
      "CPU Time     : 0.001s\n"
     ]
    }
   ],
   "source": [
    "%%clingo -n 0\n",
    "cell(c1).               % c1 is a cell\n",
    "cell(c2).\n",
    "cell(c3).\n",
    "class(early_TE).        % early_TE is a class\n",
    "class(medium_TE).\n",
    "class(late_TE).\n",
    "be_part(c1,early_TE).   % c1 belongs to early_TE class\n",
    "be_part(c2,medium_TE).\n",
    "be_part(c3,late_TE).\n",
    "gene(g1).               % g1 is a gene\n",
    "gene(g2).\n",
    "expr(c1,g1,0).          % g1 gene is expressed at 0 in c1 cell\n",
    "expr(c1,g2,0).\n",
    "expr(c2,g1,0).\n",
    "expr(c2,g2,1).\n",
    "expr(c3,g1,1).\n",
    "expr(c3,g2,1).\n",
    "pert(C,G,S,CL) :- expr(C,G,S), cell(C), gene(G), be_part(C,CL).\n",
    "{sel_pert(C,G,S,CL) : pert(C,G,S,CL)}.\n",
    ":- sel_pert(_,_,_,early_TE).\n",
    "\n",
    "#show sel_pert/4."
   ]
  },
  {
   "cell_type": "markdown",
   "metadata": {},
   "source": [
    "We can observe $16$ solutions (`Models: 16`), all respecting the rules and constraints of the program.\n",
    "\n",
    "However, our goal is to identify all possible perturbations for the cells present in medium and late TE. \n",
    "To achieve this, we aim to maximize the number of possible perturbations. \n",
    "For that, we add the maximization statement in line 22, in the following program (see next cell)."
   ]
  },
  {
   "cell_type": "code",
   "execution_count": 2,
   "metadata": {},
   "outputs": [
    {
     "name": "stdout",
     "output_type": "stream",
     "text": [
      "clingo version 5.4.1\n",
      "Reading from stdin\n",
      "Solving...\n",
      "Answer: 1\n",
      "\n",
      "Optimization: 0\n",
      "Answer: 2\n",
      "sel_pert(c3,g1,1,late_TE)\n",
      "Optimization: -1\n",
      "Answer: 3\n",
      "sel_pert(c3,g1,1,late_TE) sel_pert(c2,g2,1,medium_TE)\n",
      "Optimization: -2\n",
      "Answer: 4\n",
      "sel_pert(c3,g1,1,late_TE) sel_pert(c2,g2,1,medium_TE) sel_pert(c3,g2,1,late_TE)\n",
      "Optimization: -3\n",
      "Answer: 5\n",
      "sel_pert(c2,g1,0,medium_TE) sel_pert(c3,g1,1,late_TE) sel_pert(c2,g2,1,medium_TE) sel_pert(c3,g2,1,late_TE)\n",
      "Optimization: -4\n",
      "OPTIMUM FOUND\n",
      "\n",
      "Models       : 5\n",
      "  Optimum    : yes\n",
      "Optimization : -4\n",
      "Calls        : 1\n",
      "Time         : 0.001s (Solving: 0.00s 1st Model: 0.00s Unsat: 0.00s)\n",
      "CPU Time     : 0.001s\n"
     ]
    }
   ],
   "source": [
    "%%clingo -n 0\n",
    "cell(c1).               % c1 is a cell\n",
    "cell(c2).\n",
    "cell(c3).\n",
    "class(early_TE).        % early_TE is a class\n",
    "class(medium_TE).\n",
    "class(late_TE).\n",
    "be_part(c1,early_TE).   % c1 belongs to early_TE class\n",
    "be_part(c2,medium_TE).\n",
    "be_part(c3,late_TE).\n",
    "gene(g1).               % g1 is a gene\n",
    "gene(g2).\n",
    "expr(c1,g1,0).          % g1 gene is expressed at 0 in c1 cell\n",
    "expr(c1,g2,0).\n",
    "expr(c2,g1,0).\n",
    "expr(c2,g2,1).\n",
    "expr(c3,g1,1).\n",
    "expr(c3,g2,1).\n",
    "pert(C,G,S,CL) :- expr(C,G,S), cell(C), gene(G), be_part(C,CL).\n",
    "{sel_pert(C,G,S,CL) : pert(C,G,S,CL)}.\n",
    ":- sel_pert(_,_,_,early_TE).\n",
    "#maximize{1,C,G: sel_pert(C,G,_,_), pert(C,G,_,_)}.\n",
    "#show sel_pert/4."
   ]
  },
  {
   "cell_type": "markdown",
   "metadata": {},
   "source": [
    "The solver gives `OPTIMUM FOUND` meaning that an optimal answer set is found. This answer is the last found, here: \n",
    "\n",
    "```sel_pert(c2,g1,0,medium_TE) sel_pert(c3,g1,1,late_TE) sel_pert(c2,g2,1,medium_TE) sel_pert(c3,g2,1,late_TE)```\n",
    "\n",
    "This answer is the one comprising the maximal number of `sel_pert/4` predicates."
   ]
  }
 ],
 "metadata": {
  "kernelspec": {
   "display_name": "Python 3",
   "language": "python",
   "name": "python3"
  },
  "language_info": {
   "codemirror_mode": {
    "name": "ipython",
    "version": 3
   },
   "file_extension": ".py",
   "mimetype": "text/x-python",
   "name": "python",
   "nbconvert_exporter": "python",
   "pygments_lexer": "ipython3",
   "version": "3.10.12"
  }
 },
 "nbformat": 4,
 "nbformat_minor": 2
}
