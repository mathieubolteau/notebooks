{
 "cells": [
  {
   "cell_type": "markdown",
   "id": "251d5274-f4cc-45c8-a0df-945adeed5dcb",
   "metadata": {},
   "source": [
    "# A minimal version of asprin\n",
    "\n",
    "The goal of this project is to implement a minimal version of the system *asprin*.\n",
    "\n",
    "Before you start, we recommend you to read sections 4 and 5 of the paper [1], and \n",
    "do the following little project on multi-shot solving:\n",
    "* [../multi-shot-shell/multi-shot-shell.ipynb](../multi-shot-shell/multi-shot-shell.ipynb)\n",
    "\n",
    "We introduce *asprin* below, but if you are interested, you can find more information at:\n",
    "* the paper [2]\n",
    "* the repository https://github.com/potassco/asprin\n",
    "* these [slides](https://github.com/potassco/asprin/releases/download/v1/asprin-slides-btw17.pdf)\n",
    "* the [Potassco Guide](https://github.com/potassco/guide/releases/download/v2.2.0/guide.pdf)\n",
    "\n",
    "\n",
    "[1] [Kaminski, R., Romero, J., Schaub, T., & Wanko, P. (2023). How to Build Your Own ASP-based System?! Theory Pract. Log. Program., 23(1), 299–361.](https://www.cs.uni-potsdam.de/wv/publications/DBLP_journals/tplp/KaminskiRSW23.pdf)\n",
    "\n",
    "[2] [Brewka, G., Delgrande, J. P., Romero, J., & Schaub, T. (2023). A general framework for preferences in answer set programming. Artif. Intell., 325, 104023.](https://www.cs.uni-potsdam.de/wv/publications/DBLP_journals/ai/BrewkaDRS23.pdf) "
   ]
  },
  {
   "cell_type": "markdown",
   "id": "94656c8e-9ca5-437a-9a6c-c3fd08da795f",
   "metadata": {},
   "source": [
    "# The ASP system asprin"
   ]
  },
  {
   "cell_type": "markdown",
   "id": "aa8eea23-5b07-4aca-af0b-f921c2b69bec",
   "metadata": {},
   "source": [
    "In *clingo* we can write logic programs with optimization statements and compute their optimal answer sets.\n",
    "\n",
    "The system *asprin* extends *clingo* by allowing more general optimization statements: subset preferences, conditional prefereces, their combination, and much more...\n",
    "\n",
    "A nice feature of *asprin* is that we can define new types of optimization statements simply writing a logic program.\n",
    "\n",
    "Let's see some examples."
   ]
  },
  {
   "cell_type": "markdown",
   "id": "3bf87142-7096-4277-9780-5894b178bad4",
   "metadata": {},
   "source": [
    "The following *clingo* program:"
   ]
  },
  {
   "cell_type": "code",
   "execution_count": 52,
   "id": "c68006dc-9f5d-47f1-9dc3-d9f45457e0bb",
   "metadata": {},
   "outputs": [
    {
     "name": "stdout",
     "output_type": "stream",
     "text": [
      "Overwriting example1.lp\n"
     ]
    }
   ],
   "source": [
    "%%file example1.lp\n",
    "dom(1..2).\n",
    "1 { a(X) : dom(X) }.\n",
    "#show a/1."
   ]
  },
  {
   "cell_type": "markdown",
   "id": "d31ef135-1507-48c5-8d62-6b6cbb36f4be",
   "metadata": {},
   "source": [
    "has 3 answer sets: `{a(1)}`, `{a(2)}` and `{a(1),a(2)}`:"
   ]
  },
  {
   "cell_type": "code",
   "execution_count": 66,
   "id": "ff69e3bc-16d0-4b73-a3e6-9480c5503ab5",
   "metadata": {},
   "outputs": [
    {
     "name": "stdout",
     "output_type": "stream",
     "text": [
      "a(2)\n",
      "a(1)\n",
      "a(1) a(2)\n",
      "SATISFIABLE\n"
     ]
    }
   ],
   "source": [
    "! clingo example1.lp 0 -V0"
   ]
  },
  {
   "cell_type": "markdown",
   "id": "e9868545-e2b4-4180-95e8-a6b9e5aed58a",
   "metadata": {},
   "source": [
    "If we add a minimize statement:"
   ]
  },
  {
   "cell_type": "code",
   "execution_count": 54,
   "id": "8b54de41-ded0-48e4-aa50-0ec70b26d7ca",
   "metadata": {},
   "outputs": [
    {
     "name": "stdout",
     "output_type": "stream",
     "text": [
      "Overwriting minimize.lp\n"
     ]
    }
   ],
   "source": [
    "%%file minimize.lp\n",
    "#minimize{ 1,X : a(X) }."
   ]
  },
  {
   "cell_type": "markdown",
   "id": "2fe7f8c0-4472-47c0-a5f4-3263321e0c98",
   "metadata": {},
   "source": [
    "then the resulting program has 2 **optimal** answer sets: `{a(1)}` and `{a(2)}`:"
   ]
  },
  {
   "cell_type": "code",
   "execution_count": 55,
   "id": "c97d81c0-ed30-420a-8868-72ca15ec794e",
   "metadata": {},
   "outputs": [
    {
     "name": "stdout",
     "output_type": "stream",
     "text": [
      "a(2)\n",
      "Optimization: 1\n",
      "a(1)\n",
      "Optimization: 1\n",
      "OPTIMUM FOUND\n"
     ]
    }
   ],
   "source": [
    "! clingo example1.lp minimize.lp --opt-mode=optN 0 -V0 --quiet=1"
   ]
  },
  {
   "cell_type": "markdown",
   "id": "e8248ea8-56e1-4fde-996b-6265e3c94deb",
   "metadata": {},
   "source": [
    "Here, option `--quiet=1` tells clingo to print only the optimal answer sets."
   ]
  },
  {
   "cell_type": "markdown",
   "id": "cea766ff-f596-4b6a-aba8-ac80744209d6",
   "metadata": {},
   "source": [
    "In asprin, we can write this *preference specification*:"
   ]
  },
  {
   "cell_type": "code",
   "execution_count": 62,
   "id": "6247e35a-7fd2-4c7e-b5ea-a90ea625d5c4",
   "metadata": {},
   "outputs": [
    {
     "name": "stdout",
     "output_type": "stream",
     "text": [
      "Overwriting preference1.lp\n"
     ]
    }
   ],
   "source": [
    "%%file preference1.lp\n",
    "#preference(p1,less(weight)) { 1,X ::     a(X) : dom(X) }.\n",
    "#preference(p2,      subset) {            a(X) : dom(X) }.\n",
    "\n",
    "#const o=p1.\n",
    "#optimize(o)."
   ]
  },
  {
   "cell_type": "markdown",
   "id": "c2082f5b-8857-42a3-8152-7147a234d461",
   "metadata": {},
   "source": [
    "The **first line** says that the preference statement `p1` is of type `less(weight)` and has the preference element `1,X :: a(X) : dom(X)`.\n",
    "\n",
    "This statement expresses the same preference as the minimize statement from above, with a slightly different syntax.\n",
    "\n",
    "An answer set Y is optimal wrt `p1` if there is no answer set X such there are less atoms of `a/1` in X than in Y.\n",
    "\n",
    "The **second line** says that the preference statement `p2` is of type `subset` and has the preference element `a(X) : dom(X)`.\n",
    "\n",
    "This expresses a preference for answer sets that are subset-minimal wrt the set of atoms of predicate `a/1`.\n",
    "\n",
    "An answer set Y is optimal wrt `p2` if there is no answer set X such that the atoms of `a/1` in X are a subset of the atoms of `a/1` in Y.\n",
    "\n",
    "The **last line** says tells *asprin* to compute optimal answer sets wrt preference statement `o`, and `o` is set to `p1` in the previous line."
   ]
  },
  {
   "cell_type": "markdown",
   "id": "b873ea91-c4d9-45a6-b4be-af84e7fbc530",
   "metadata": {},
   "source": [
    "##### Formalities\n",
    "\n",
    "In *asprin*, every preference statement $s$ defines a preference relation $\\succeq_s$ between answer sets. \n",
    "\n",
    "A preference relation $\\succeq_s$ is a transitive and reflexive relation.\n",
    "Its strict version $\\succ_s$ is defined as follows: X $\\succ_s$ Y if X $\\succeq_s$ Y but Y $\\not\\succeq_s$ X.\n",
    "\n",
    "Then, an answer set Y of a program P is optimal wrt $s$ if there is no answer set X of P such that X $\\succ_s$ Y."
   ]
  },
  {
   "cell_type": "markdown",
   "id": "c04a0c53-78a7-405c-825b-900248a9049c",
   "metadata": {},
   "source": [
    "To use *asprin* in this notebook, we clone it from its repository:"
   ]
  },
  {
   "cell_type": "code",
   "execution_count": null,
   "id": "04037689-8526-4992-a8b3-baabef2983b4",
   "metadata": {},
   "outputs": [],
   "source": [
    "! git clone https://github.com/potassco/asprin.git"
   ]
  },
  {
   "cell_type": "markdown",
   "id": "8ea0885c-5444-47ba-962a-df6ec6687758",
   "metadata": {},
   "source": [
    "Normally, we would install it with:\n",
    "* `conda install -c potassco asprin --yes`\n",
    "\n",
    "but today (23.5.2024) the latest version available via conda is not compatible with the latest version of *clingo* used in this notebook."
   ]
  },
  {
   "cell_type": "markdown",
   "id": "448b551f-969c-4e72-926f-8e6844b0f074",
   "metadata": {},
   "source": [
    "Then we can just run *asprin* from the repository:"
   ]
  },
  {
   "cell_type": "code",
   "execution_count": 63,
   "id": "dd1c0078-9efd-422a-8a5f-4d21b301aeee",
   "metadata": {},
   "outputs": [
    {
     "name": "stdout",
     "output_type": "stream",
     "text": [
      "asprin version 3.1.2beta\n",
      "Reading from example1.lp ...\n",
      "Solving...\n",
      "Answer: 1\n",
      "a(2)\n",
      "OPTIMUM FOUND\n",
      "Answer: 2\n",
      "a(1)\n",
      "OPTIMUM FOUND\n",
      "\n",
      "Models       : 2\n",
      "  Optimum    : yes\n",
      "  Optimal    : 2\n",
      "Calls        : 7\n",
      "Time         : 0.080s (Solving: 0.00s 1st Model: 0.00s Unsat: 0.00s)\n",
      "CPU Time     : 0.076s\n"
     ]
    }
   ],
   "source": [
    "! python asprin/asprin/asprin.py example1.lp preference1.lp 0"
   ]
  },
  {
   "cell_type": "markdown",
   "id": "b3628a62-0a1b-4803-8183-24d8f8c27b0a",
   "metadata": {},
   "source": [
    "Observe how we obtain the same optimal answer sets as above with the minimize statement."
   ]
  },
  {
   "cell_type": "markdown",
   "id": "da718698-2ea2-4f91-97ff-4c745ba797a6",
   "metadata": {},
   "source": [
    "We can optimize wrt `p2` changing the constant `o`:"
   ]
  },
  {
   "cell_type": "code",
   "execution_count": 64,
   "id": "6cfdcce5-7c33-4c52-ae99-54cae3e702e5",
   "metadata": {},
   "outputs": [
    {
     "name": "stdout",
     "output_type": "stream",
     "text": [
      "asprin version 3.1.2beta\n",
      "Reading from example1.lp ...\n",
      "Solving...\n",
      "Answer: 1\n",
      "a(2)\n",
      "OPTIMUM FOUND\n",
      "Answer: 2\n",
      "a(1)\n",
      "OPTIMUM FOUND\n",
      "\n",
      "Models       : 2\n",
      "  Optimum    : yes\n",
      "  Optimal    : 2\n",
      "Calls        : 7\n",
      "Time         : 0.072s (Solving: 0.00s 1st Model: 0.00s Unsat: 0.00s)\n",
      "CPU Time     : 0.072s\n"
     ]
    }
   ],
   "source": [
    "! python asprin/asprin/asprin.py example1.lp preference1.lp -c o=p2 0"
   ]
  },
  {
   "cell_type": "markdown",
   "id": "02b311eb-500a-45f4-9d36-105c3e7e5f67",
   "metadata": {},
   "source": [
    "In this case, we also obtain the same optimal answer sets. \n",
    "\n",
    "The answer sets are `{a(1)}`, `{a(2)}` and `{a(1),a(2)}`. \n",
    "\n",
    "For `{a(1)}` and `{a(2)}`, there is no answer set that is a subset of them wrt `a/1`, since `{}` is not an answer set. \n",
    "Hence, both are optimal.\n",
    "\n",
    "But for `{a(1),a(2)}`, both `{a(1)}` and `{a(2)}` are answer sets that are subsets of it wrt `a/1`.\n",
    "Hence, `{a(1),a(2)}` is not an optimal answer set."
   ]
  },
  {
   "cell_type": "markdown",
   "id": "4ed55347-56ca-498f-96eb-da3be8cf6da3",
   "metadata": {},
   "source": [
    "We can now extend the base program with these rules:"
   ]
  },
  {
   "cell_type": "code",
   "execution_count": 70,
   "id": "b32e5278-d26e-4a8c-b2c5-d6070d982736",
   "metadata": {},
   "outputs": [
    {
     "name": "stdout",
     "output_type": "stream",
     "text": [
      "Overwriting example2.lp\n"
     ]
    }
   ],
   "source": [
    "%%file example2.lp\n",
    "dom(3).\n",
    "a(3) :- a(2).\n",
    "a(2) :- a(3)."
   ]
  },
  {
   "cell_type": "markdown",
   "id": "ebf68344-08a7-493e-b59f-c32f1ee75543",
   "metadata": {},
   "source": [
    "and we obtain 3 answer sets: "
   ]
  },
  {
   "cell_type": "code",
   "execution_count": 71,
   "id": "0d3516e6-e362-4a49-9c98-2eb70eeea88d",
   "metadata": {},
   "outputs": [
    {
     "name": "stdout",
     "output_type": "stream",
     "text": [
      "a(1)\n",
      "a(3) a(2)\n",
      "a(3) a(2) a(1)\n",
      "SATISFIABLE\n"
     ]
    }
   ],
   "source": [
    "! clingo example1.lp example2.lp 0 -V0"
   ]
  },
  {
   "cell_type": "markdown",
   "id": "d97b4f63-609a-467f-957a-fe923b18925e",
   "metadata": {},
   "source": [
    "Now only the first one is minimal wrt the minimize statement or `p1`:"
   ]
  },
  {
   "cell_type": "code",
   "execution_count": 72,
   "id": "db800f7a-8578-4b3b-9002-da2e7bc8b634",
   "metadata": {},
   "outputs": [
    {
     "name": "stdout",
     "output_type": "stream",
     "text": [
      "a(1)\n",
      "Optimization: 1\n",
      "OPTIMUM FOUND\n"
     ]
    }
   ],
   "source": [
    "! clingo example1.lp example2.lp minimize.lp --opt-mode=optN 0 -V0 --quiet=1"
   ]
  },
  {
   "cell_type": "code",
   "execution_count": 73,
   "id": "c2d8b652-b35b-44a3-8554-8bbcaaf24608",
   "metadata": {},
   "outputs": [
    {
     "name": "stdout",
     "output_type": "stream",
     "text": [
      "asprin version 3.1.2beta\n",
      "Reading from example1.lp ...\n",
      "Solving...\n",
      "Answer: 1\n",
      "a(1)\n",
      "OPTIMUM FOUND\n",
      "\n",
      "Models       : 1\n",
      "  Optimum    : yes\n",
      "  Optimal    : 1\n",
      "Calls        : 4\n",
      "Time         : 0.071s (Solving: 0.00s 1st Model: 0.00s Unsat: 0.00s)\n",
      "CPU Time     : 0.069s\n"
     ]
    }
   ],
   "source": [
    "! python asprin/asprin/asprin.py example1.lp example2.lp preference1.lp 0"
   ]
  },
  {
   "cell_type": "markdown",
   "id": "7294e5c8-cac8-4591-bacb-b2ee10b1a2ab",
   "metadata": {},
   "source": [
    "but both `{a(1)}` and `{a(2),a(3)}` are optimal wrt `p2`:"
   ]
  },
  {
   "cell_type": "code",
   "execution_count": 74,
   "id": "0821255a-81f4-48a7-aa7a-a6262396127b",
   "metadata": {},
   "outputs": [
    {
     "name": "stdout",
     "output_type": "stream",
     "text": [
      "asprin version 3.1.2beta\n",
      "Reading from example1.lp ...\n",
      "Solving...\n",
      "Answer: 1\n",
      "a(1)\n",
      "OPTIMUM FOUND\n",
      "Answer: 2\n",
      "a(3) a(2)\n",
      "OPTIMUM FOUND\n",
      "\n",
      "Models       : 2\n",
      "  Optimum    : yes\n",
      "  Optimal    : 2\n",
      "Calls        : 7\n",
      "Time         : 0.073s (Solving: 0.00s 1st Model: 0.00s Unsat: 0.00s)\n",
      "CPU Time     : 0.073s\n"
     ]
    }
   ],
   "source": [
    "! python asprin/asprin/asprin.py example1.lp example2.lp preference1.lp -c o=p2 0"
   ]
  },
  {
   "cell_type": "markdown",
   "id": "6322fae1-55e2-40b8-b80c-f68dd4278329",
   "metadata": {},
   "source": [
    "The answer set `{a(2),a(3)}` is optimal because none of its subsets (`{}`, `{a(2)}` or `{a(3)}`) is an answer set.\n",
    "\n",
    "Observe that `{a(1)}` has less cardinality than `{a(2),a(3)}` but is not a subset of it. \n",
    "This lets `{a(2),a(3)}` be optimal wrt `p2` but not wrt `p1`.\n",
    "\n",
    "This kind of subset preferences are very useful in practice and often show up in real-world applications."
   ]
  },
  {
   "cell_type": "markdown",
   "id": "7cc86be1-194f-482c-afc9-7452ed99b41a",
   "metadata": {},
   "source": [
    "# Task\n"
   ]
  },
  {
   "cell_type": "markdown",
   "id": "9ca13bcb-07b9-4f9f-94b8-06747eee5987",
   "metadata": {},
   "source": [
    "The task is to implement a minimal version of *asprin*, called *mini-asprin*.\n",
    "\n",
    "The input to *mini-asprin* should be:\n",
    "- some *clingo* program including minimize statements, and\n",
    "- some *preference* program re-interpreting those minimize statements (see below).\n",
    "\n",
    "Given that input, \n",
    "*mini-asprin* should print the answer sets of the *clingo* program \n",
    "that are optimal wrt the re-interpretation of the minimize statements. "
   ]
  },
  {
   "cell_type": "markdown",
   "id": "806fc3ca-3a85-4738-b0d6-55bd75b9df07",
   "metadata": {},
   "source": [
    "For example, if:\n",
    "* the input consists of the files `example1.lp example2.lp minimize.lp`, and\n",
    "* the preference program (in `less-weight.lp`) just interprets minimize statements as they are,\n",
    "\n",
    "then we should obtain the unique optimal answer set `{a(1)}`:"
   ]
  },
  {
   "cell_type": "code",
   "execution_count": 24,
   "id": "9e352136-4783-4479-bc0f-db6aae453a0f",
   "metadata": {},
   "outputs": [
    {
     "name": "stdout",
     "output_type": "stream",
     "text": [
      "clingo version 5.7.1\n",
      "Reading from - ...\n",
      "Solving...\n",
      "Answer: 1\n",
      "a(1)\n",
      "Solving...\n",
      "OPTIMUM FOUND\n",
      "Solving...\n",
      "UNSATISFIABLE\n",
      "\n",
      "Models       : 1\n",
      "Calls        : 3\n",
      "Time         : 0.002s (Solving: 0.00s 1st Model: 0.00s Unsat: 0.00s)\n",
      "CPU Time     : 0.002s\n"
     ]
    }
   ],
   "source": [
    "! clingo example1.lp example2.lp minimize.lp --output=reify | python my-mini-asprin.py - less-weight.lp 0"
   ]
  },
  {
   "cell_type": "markdown",
   "id": "a64ebeb3-b64b-459f-b0be-606c0a11b4b5",
   "metadata": {},
   "source": [
    "But if the preference program (in `subset.lp`) interprets the minimize statement as a subset preference, \n",
    "then we should obtain the two optimal answer sets `{a(1)}` and `{a(2), a(3)}`:"
   ]
  },
  {
   "cell_type": "code",
   "execution_count": 25,
   "id": "d06cdb62-0608-4679-8d31-b6f0dc8dc1e7",
   "metadata": {},
   "outputs": [
    {
     "name": "stdout",
     "output_type": "stream",
     "text": [
      "clingo version 5.7.1\n",
      "Reading from - ...\n",
      "Solving...\n",
      "Answer: 1\n",
      "a(1)\n",
      "Solving...\n",
      "OPTIMUM FOUND\n",
      "Solving...\n",
      "Answer: 1\n",
      "a(2) a(3)\n",
      "Solving...\n",
      "OPTIMUM FOUND\n",
      "Solving...\n",
      "UNSATISFIABLE\n",
      "\n",
      "Models       : 2\n",
      "Calls        : 5\n",
      "Time         : 0.004s (Solving: 0.00s 1st Model: 0.00s Unsat: 0.00s)\n",
      "CPU Time     : 0.004s\n"
     ]
    }
   ],
   "source": [
    "! clingo example1.lp example2.lp minimize.lp --output=reify | python my-mini-asprin.py - subset.lp 0"
   ]
  }
 ],
 "metadata": {
  "kernelspec": {
   "display_name": "Python 3 (ipykernel)",
   "language": "python",
   "name": "python3"
  },
  "language_info": {
   "codemirror_mode": {
    "name": "ipython",
    "version": 3
   },
   "file_extension": ".py",
   "mimetype": "text/x-python",
   "name": "python",
   "nbconvert_exporter": "python",
   "pygments_lexer": "ipython3",
   "version": "3.12.3"
  }
 },
 "nbformat": 4,
 "nbformat_minor": 5
}
