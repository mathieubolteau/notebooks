{
 "cells": [
  {
   "cell_type": "markdown",
   "metadata": {},
   "source": [
    "# Illustration 4.1\n",
    "\n",
    "In this notebook, we provide an explanation with a toy example of the *Constraint 2* forbidding potential redundancies in a cell class (see Section 4.2.3 of the manuscript).\n",
    "\n",
    "In the figure bellow, we recapitulate presented patterns of redundancies in the manuscript, as known V-patterns, parallel-patterns and cross-patterns.\n",
    "\n",
    "![Redundant patterns](./figs/redundant_patterns.png)\n",
    "\n",
    "**Tips**: to run an ASP program, click on the cell and then on `Run` (or press `Ctrl+Enter`). The result will be printed below the cell.\n",
    "\n",
    "## V-patterns\n",
    "\n",
    "We present here the ASP program of the toy example on the two constraints of lines *v2_10* and *v2_11*."
   ]
  },
  {
   "cell_type": "code",
   "execution_count": 15,
   "metadata": {},
   "outputs": [
    {
     "name": "stdout",
     "output_type": "stream",
     "text": [
      "clingo version 5.4.1\n",
      "Reading from stdin\n",
      "Solving...\n",
      "UNSATISFIABLE\n",
      "\n",
      "Models       : 0\n",
      "Calls        : 1\n",
      "Time         : 0.000s (Solving: 0.00s 1st Model: 0.00s Unsat: 0.00s)\n",
      "CPU Time     : 0.000s\n"
     ]
    }
   ],
   "source": [
    "%%clingo -n 0 \n",
    "\n",
    "% Facts of the toy example\n",
    "match(a1,b1). match(a1,b2). \n",
    "match(a2,b3). match(a3,b3).\n",
    "\n",
    "% Constraints of the program\n",
    ":- match(I,J1), match(I,J2), J1!=J2.\n",
    ":- match(I1,J), match(I2,J), I1!=I2.  \n",
    "\n",
    "\n",
    "% Print of the results\n",
    "#show match/2."
   ]
  },
  {
   "cell_type": "markdown",
   "metadata": {},
   "source": [
    "In the first program, all matches are presents. However, given the constraints, it is impossible to have in the same time two matches involving the same cell.\n",
    "Thus, the solver cannot find a solution, the problem is `UNSATISFIABLE`.\n",
    "\n",
    "To be more similar with real problem, we modify the previous program by using choice rules, in order to consider or not a match."
   ]
  },
  {
   "cell_type": "code",
   "execution_count": 16,
   "metadata": {},
   "outputs": [
    {
     "name": "stdout",
     "output_type": "stream",
     "text": [
      "clingo version 5.4.1\n",
      "Reading from stdin\n",
      "Solving...\n",
      "Answer: 1\n",
      "\n",
      "Answer: 2\n",
      "match(a3,b3)\n",
      "Answer: 3\n",
      "match(a1,b1)\n",
      "Answer: 4\n",
      "match(a3,b3) match(a1,b1)\n",
      "Answer: 5\n",
      "match(a1,b2)\n",
      "Answer: 6\n",
      "match(a3,b3) match(a1,b2)\n",
      "Answer: 7\n",
      "match(a2,b3)\n",
      "Answer: 8\n",
      "match(a2,b3) match(a1,b1)\n",
      "Answer: 9\n",
      "match(a2,b3) match(a1,b2)\n",
      "SATISFIABLE\n",
      "\n",
      "Models       : 9\n",
      "Calls        : 1\n",
      "Time         : 0.000s (Solving: 0.00s 1st Model: 0.00s Unsat: 0.00s)\n",
      "CPU Time     : 0.000s\n"
     ]
    }
   ],
   "source": [
    "%%clingo -n 0 \n",
    "\n",
    "% Facts of the toy example\n",
    "% Here, we use a choice rule enables the inference 0 or 1 time of each match\n",
    "0{match(a1,b1)}1. 0{match(a1,b2)}1. \n",
    "0{match(a2,b3)}1. 0{match(a3,b3)}1. \n",
    "\n",
    "% Constraints of the program\n",
    ":- match(I,J1), match(I,J2), J1!=J2.\n",
    ":- match(I1,J), match(I2,J), I1!=I2.  \n",
    "\n",
    "% Print of the results\n",
    "#show match/2."
   ]
  },
  {
   "cell_type": "markdown",
   "metadata": {},
   "source": [
    "With this program, we obtain 9 solutions composed of 0, 1 or 2 matches.\n",
    "\n",
    "---\n",
    "\n",
    "## Parallel-patterns and Cross-patterns\n",
    "\n",
    "We present here the ASP program of the toy example on parallel-patterns and cross-patterns.\n",
    "\n",
    "First, we present the obtained patterns after the use of constraints $v2\\_10$ and $v2\\_11$ (see last cell of the notebook)."
   ]
  },
  {
   "cell_type": "code",
   "execution_count": 17,
   "metadata": {},
   "outputs": [
    {
     "name": "stdout",
     "output_type": "stream",
     "text": [
      "clingo version 5.4.1\n",
      "Reading from stdin\n",
      "Solving...\n",
      "Answer: 1\n",
      "match(a1,b2) match(a2,b1)\n",
      "Optimization: -2\n",
      "Answer: 2\n",
      "match(a1,b1) match(a2,b2)\n",
      "Optimization: -2\n",
      "OPTIMUM FOUND\n",
      "\n",
      "Models       : 2\n",
      "  Optimum    : yes\n",
      "Calls        : 1\n",
      "Time         : 0.000s (Solving: 0.00s 1st Model: 0.00s Unsat: 0.00s)\n",
      "CPU Time     : 0.000s\n"
     ]
    }
   ],
   "source": [
    "%%clingo 0 --opt-mode=enum,-2\n",
    "\n",
    "% Facts of the toy example\n",
    "pot_match(a1,b1). pot_match(a1,b2).\n",
    "pot_match(a2,b1). pot_match(a2,b2).\n",
    "0{match(I,J)}1 :- pot_match(I,J).\n",
    "\n",
    "% Constraints of the program\n",
    ":- match(I,J1), match(I,J2), J1!=J2.\n",
    ":- match(I1,J), match(I2,J), I1!=I2.  \n",
    "\n",
    "% Optimization\n",
    "#maximize{1, I : match(I,_)}.\n",
    "\n",
    "% Print of the results\n",
    "#show match/2."
   ]
  },
  {
   "cell_type": "markdown",
   "metadata": {},
   "source": [
    "Given the constraints on the `match/2` predicates, two possibles solutions comprising two matches are found. \n",
    "The first `match(a1,b2) match(a2,b1)` correspond to the cross-pattern illustrated in the above figure (B).\n",
    "The second `match(a1,b1) match(a2,b2)` correspond to the parallel-pattern illustrated in the above figure (B).\n",
    "However, these matches involved redundant cells showing the need of additional constraints.\n",
    "\n",
    "To overcome this, we introduce two constraints (lines $v2\\_12$ and $v2\\_13$ in the program -- see last cell of the notebook)."
   ]
  },
  {
   "cell_type": "code",
   "execution_count": 23,
   "metadata": {},
   "outputs": [
    {
     "name": "stdout",
     "output_type": "stream",
     "text": [
      "clingo version 5.4.1\n",
      "Reading from stdin\n",
      "Solving...\n",
      "Answer: 1\n",
      "\n",
      "Optimization: 0\n",
      "Answer: 2\n",
      "match(a1,b1)\n",
      "Optimization: -1\n",
      "OPTIMUM FOUND\n",
      "\n",
      "Models       : 2\n",
      "  Optimum    : yes\n",
      "Optimization : -1\n",
      "Calls        : 1\n",
      "Time         : 0.001s (Solving: 0.00s 1st Model: 0.00s Unsat: 0.00s)\n",
      "CPU Time     : 0.001s\n"
     ]
    }
   ],
   "source": [
    "%%clingo 0 \n",
    "\n",
    "% Facts of the toy example\n",
    "pot_match(a1,b1). pot_match(a1,b2).\n",
    "pot_match(a2,b1). pot_match(a2,b2).\n",
    "0{match(I,J)}1 :- pot_match(I,J).\n",
    "\n",
    "% Constraints of the program\n",
    ":- match(I,J1), match(I,J2), J1!=J2.\n",
    ":- match(I1,J), match(I2,J), I1!=I2.  \n",
    "\n",
    ":-pot_match(I1,J), pot_match(I2,J), match(I2,J), I1<I2.\n",
    ":-pot_match(I,J1), pot_match(I,J2), match(I,J2), J1<J2.\n",
    "\n",
    "% Optimization\n",
    "#maximize{1, I : match(I,_)}.\n",
    "\n",
    "% Print of the results\n",
    "#show match/2."
   ]
  },
  {
   "cell_type": "markdown",
   "metadata": {},
   "source": [
    "We observe that one solution satisfy the problem, comprising `match(a1,b1)`.\n",
    "\n",
    "\n",
    "Let us observe the results if we apply the constraints $v2\\_12$ and $v2\\_13$, without considering the constraints $v2\\_10$ and $v2\\_11$ to the configuration A."
   ]
  },
  {
   "cell_type": "code",
   "execution_count": 25,
   "metadata": {},
   "outputs": [
    {
     "name": "stdout",
     "output_type": "stream",
     "text": [
      "clingo version 5.4.1\n",
      "Reading from stdin\n",
      "Solving...\n",
      "Answer: 1\n",
      "\n",
      "Optimization: 0\n",
      "Answer: 2\n",
      "match(a2,b3)\n",
      "Optimization: -1\n",
      "Answer: 3\n",
      "match(a1,b1) match(a2,b3)\n",
      "Optimization: -2\n",
      "OPTIMUM FOUND\n",
      "\n",
      "Models       : 3\n",
      "  Optimum    : yes\n",
      "Optimization : -2\n",
      "Calls        : 1\n",
      "Time         : 0.001s (Solving: 0.00s 1st Model: 0.00s Unsat: 0.00s)\n",
      "CPU Time     : 0.001s\n"
     ]
    }
   ],
   "source": [
    "%%clingo 0 \n",
    "\n",
    "% Facts of the toy example\n",
    "pot_match(a1,b1). pot_match(a1,b2). \n",
    "pot_match(a2,b3). pot_match(a3,b3).\n",
    "0{match(I,J)}1 :- pot_match(I,J).\n",
    "\n",
    "% Constraints of the program\n",
    "% :- match(I,J1), match(I,J2), J1!=J2.\n",
    "% :- match(I1,J), match(I2,J), I1!=I2.  \n",
    "\n",
    ":-pot_match(I1,J), pot_match(I2,J), match(I2,J), I1<I2.\n",
    ":-pot_match(I,J1), pot_match(I,J2), match(I,J2), J1<J2.\n",
    "\n",
    "% Optimization\n",
    "#maximize{1, I : match(I,_)}.\n",
    "\n",
    "% Print of the results\n",
    "#show match/2."
   ]
  },
  {
   "cell_type": "markdown",
   "metadata": {},
   "source": [
    "Only one solution `match(a1,b1) match(a2,b3)` is allowed by the constraints.\n",
    "\n",
    "---\n",
    "\n",
    "In the following cell, we provide the $v2$ program for identifying pseudo-perturbations (see Program 4.1 in the manuscript)."
   ]
  },
  {
   "cell_type": "markdown",
   "metadata": {},
   "source": [
    "```\n",
    "{selinput(G) : pert(C,G,S,CL), not intermediate(G)} = l.\n",
    "{selinter(G): intermediate(G)} = k-l.\n",
    "selpert(E,V,S,C) :- selinput(V), pert(E,V,S,C).\n",
    "selpert(E,V,S,C) :- selinter(V), pert(E,V,S,C).\n",
    "equal(I,J,G) :- selpert(I,G,S1,C1), selpert(J,G,S2,C2), I!=J, S1=S2.\n",
    "pot_match(I,J) :- k = {equal(I,J,_)},  selpert(I,_,_,C1), selpert(J,_,_,C2), C1<C2, I!=J.\n",
    "0{match(I,J)}1 :- pot_match(I,J).\n",
    "nbInputOnes(C,N) :- N = {pert(C,G,1,_) : selinput(G), input(G)}, match(C,_).\n",
    ":- match(C,_), nbInputOnes(C,N), N < 1.  \n",
    ":- match(I,J1), match(I,J2), J1!=J2.\n",
    ":- match(I1,J), match(I2,J), I1!=I2.  \n",
    ":- pot_match(I1,J), pot_match(I2,J), match(I2,J), I1<I2.\n",
    ":- pot_match(I,J1), pot_match(I,J2), match(I,J2), J1<J2.\n",
    "1{selinput(G)  : parent(G,I), input(G)} :- selinter(I).\n",
    "#maximize{1, I : match(I,_)}.\n",
    "```"
   ]
  }
 ],
 "metadata": {
  "kernelspec": {
   "display_name": "Python 3",
   "language": "python",
   "name": "python3"
  },
  "language_info": {
   "codemirror_mode": {
    "name": "ipython",
    "version": 3
   },
   "file_extension": ".py",
   "mimetype": "text/x-python",
   "name": "python",
   "nbconvert_exporter": "python",
   "pygments_lexer": "ipython3",
   "version": "3.10.12"
  }
 },
 "nbformat": 4,
 "nbformat_minor": 2
}
